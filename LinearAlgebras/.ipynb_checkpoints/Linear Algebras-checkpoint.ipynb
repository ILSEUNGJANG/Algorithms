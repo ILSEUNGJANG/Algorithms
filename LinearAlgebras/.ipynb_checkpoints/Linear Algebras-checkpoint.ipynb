{
 "cells": [
  {
   "cell_type": "markdown",
   "id": "decfebc5",
   "metadata": {},
   "source": [
    "### 2023.03.28\n",
    "Introduction to `SageMath` (URL: https://www.sagemath.org)."
   ]
  },
  {
   "cell_type": "markdown",
   "id": "1156c853",
   "metadata": {
    "ExecuteTime": {
     "end_time": "2023-03-28T03:48:08.080931Z",
     "start_time": "2023-03-28T03:48:08.068128Z"
    }
   },
   "source": [
    "#### Basics"
   ]
  },
  {
   "cell_type": "code",
   "execution_count": 143,
   "id": "66ab9a47",
   "metadata": {
    "ExecuteTime": {
     "end_time": "2023-03-28T12:39:55.853048Z",
     "start_time": "2023-03-28T12:39:55.840289Z"
    }
   },
   "outputs": [
    {
     "data": {
      "text/plain": [
       "3"
      ]
     },
     "execution_count": 143,
     "metadata": {},
     "output_type": "execute_result"
    }
   ],
   "source": [
    "1+2 # 기본적인 사칙 연산"
   ]
  },
  {
   "cell_type": "code",
   "execution_count": 144,
   "id": "ea5e630c",
   "metadata": {
    "ExecuteTime": {
     "end_time": "2023-03-28T12:39:56.041354Z",
     "start_time": "2023-03-28T12:39:56.032095Z"
    }
   },
   "outputs": [
    {
     "data": {
      "text/plain": [
       "12"
      ]
     },
     "execution_count": 144,
     "metadata": {},
     "output_type": "execute_result"
    }
   ],
   "source": [
    "3*4 # 기본적인 사칙 연산"
   ]
  },
  {
   "cell_type": "code",
   "execution_count": 145,
   "id": "77e2065a",
   "metadata": {
    "ExecuteTime": {
     "end_time": "2023-03-28T12:39:56.271329Z",
     "start_time": "2023-03-28T12:39:56.262611Z"
    }
   },
   "outputs": [
    {
     "data": {
      "text/plain": [
       "-2"
      ]
     },
     "execution_count": 145,
     "metadata": {},
     "output_type": "execute_result"
    }
   ],
   "source": [
    "3-5 # 기본적인 사칙 연산"
   ]
  },
  {
   "cell_type": "code",
   "execution_count": 146,
   "id": "ffa2c14b",
   "metadata": {
    "ExecuteTime": {
     "end_time": "2023-03-28T12:39:56.658984Z",
     "start_time": "2023-03-28T12:39:56.646717Z"
    }
   },
   "outputs": [
    {
     "data": {
      "text/plain": [
       "1/2"
      ]
     },
     "execution_count": 146,
     "metadata": {},
     "output_type": "execute_result"
    }
   ],
   "source": [
    "1/2"
   ]
  },
  {
   "cell_type": "code",
   "execution_count": 147,
   "id": "5c59821a",
   "metadata": {
    "ExecuteTime": {
     "end_time": "2023-03-28T12:39:57.155666Z",
     "start_time": "2023-03-28T12:39:57.145462Z"
    }
   },
   "outputs": [
    {
     "data": {
      "text/plain": [
       "0.500000000000000"
      ]
     },
     "execution_count": 147,
     "metadata": {},
     "output_type": "execute_result"
    }
   ],
   "source": [
    "1/2.n() # return numerical value"
   ]
  },
  {
   "cell_type": "code",
   "execution_count": 188,
   "id": "17dffe9c",
   "metadata": {
    "ExecuteTime": {
     "end_time": "2023-03-28T12:53:19.736327Z",
     "start_time": "2023-03-28T12:53:19.725000Z"
    }
   },
   "outputs": [
    {
     "data": {
      "text/plain": [
       "59049"
      ]
     },
     "execution_count": 188,
     "metadata": {},
     "output_type": "execute_result"
    }
   ],
   "source": [
    "3**10 # 3의 10승"
   ]
  },
  {
   "cell_type": "code",
   "execution_count": 190,
   "id": "22c68796",
   "metadata": {
    "ExecuteTime": {
     "end_time": "2023-03-28T12:53:36.390398Z",
     "start_time": "2023-03-28T12:53:36.377244Z"
    }
   },
   "outputs": [
    {
     "data": {
      "text/plain": [
       "1"
      ]
     },
     "execution_count": 190,
     "metadata": {},
     "output_type": "execute_result"
    }
   ],
   "source": [
    "10 % 3 # 10을 3으로 나눈 나머지 1"
   ]
  },
  {
   "cell_type": "code",
   "execution_count": 192,
   "id": "6109b19b",
   "metadata": {
    "ExecuteTime": {
     "end_time": "2023-03-28T12:53:56.807312Z",
     "start_time": "2023-03-28T12:53:56.795675Z"
    }
   },
   "outputs": [
    {
     "data": {
      "text/plain": [
       "3"
      ]
     },
     "execution_count": 192,
     "metadata": {},
     "output_type": "execute_result"
    }
   ],
   "source": [
    "10 // 3 # 10을 3으로 나눴을 때 몫"
   ]
  },
  {
   "cell_type": "code",
   "execution_count": 148,
   "id": "5ac56e7d",
   "metadata": {
    "ExecuteTime": {
     "end_time": "2023-03-28T12:39:57.890170Z",
     "start_time": "2023-03-28T12:39:57.882379Z"
    }
   },
   "outputs": [
    {
     "data": {
      "text/plain": [
       "<class 'sage.rings.integer.Integer'>"
      ]
     },
     "execution_count": 148,
     "metadata": {},
     "output_type": "execute_result"
    }
   ],
   "source": [
    "type(1) # SageMath 에서 1 은 integer (class)로 인식"
   ]
  },
  {
   "cell_type": "code",
   "execution_count": 149,
   "id": "24b5feb7",
   "metadata": {
    "ExecuteTime": {
     "end_time": "2023-03-28T12:39:58.583557Z",
     "start_time": "2023-03-28T12:39:58.573654Z"
    }
   },
   "outputs": [
    {
     "data": {
      "text/plain": [
       "<class 'int'>"
      ]
     },
     "execution_count": 149,
     "metadata": {},
     "output_type": "execute_result"
    }
   ],
   "source": [
    "type(int(1))"
   ]
  },
  {
   "cell_type": "markdown",
   "id": "4cbb67f6",
   "metadata": {},
   "source": [
    "---"
   ]
  },
  {
   "cell_type": "markdown",
   "id": "9db66b91",
   "metadata": {},
   "source": [
    "Sage는 **Python기반**으로 작성된 대수 프로그램이므로,\n",
    "기본적으로 Python문법 구조를 따른다.  \n",
    "특히, 리스트, 튜플, 딕셔너리를 활용하여 여러 데이터를 다룬다."
   ]
  },
  {
   "cell_type": "code",
   "execution_count": 158,
   "id": "b24171f1",
   "metadata": {
    "ExecuteTime": {
     "end_time": "2023-03-28T12:42:23.867844Z",
     "start_time": "2023-03-28T12:42:23.856828Z"
    }
   },
   "outputs": [
    {
     "data": {
      "text/plain": [
       "(1, 2, 3)"
      ]
     },
     "execution_count": 158,
     "metadata": {},
     "output_type": "execute_result"
    }
   ],
   "source": [
    "# 리스트\n",
    "alist = [1,2,3]\n",
    "# 0 번째,  1번째,     2번째\n",
    "alist[0], alist[1], alist[2]"
   ]
  },
  {
   "cell_type": "code",
   "execution_count": 159,
   "id": "4498dc06",
   "metadata": {
    "ExecuteTime": {
     "end_time": "2023-03-28T12:42:24.220637Z",
     "start_time": "2023-03-28T12:42:24.209860Z"
    }
   },
   "outputs": [
    {
     "data": {
      "text/plain": [
       "[1, 2, 3, 1]"
      ]
     },
     "execution_count": 159,
     "metadata": {},
     "output_type": "execute_result"
    }
   ],
   "source": [
    "alist.append(1); alist # 주어진 리스트에 데이터 추가 가능"
   ]
  },
  {
   "cell_type": "code",
   "execution_count": 171,
   "id": "9ea9fc80",
   "metadata": {
    "ExecuteTime": {
     "end_time": "2023-03-28T12:43:20.170995Z",
     "start_time": "2023-03-28T12:43:20.158514Z"
    }
   },
   "outputs": [
    {
     "data": {
      "text/plain": [
       "(1, 2, 3)"
      ]
     },
     "execution_count": 171,
     "metadata": {},
     "output_type": "execute_result"
    }
   ],
   "source": [
    "# 튜플 (리스트와 다르게 주어진 튜플에 데이터 추가 불가)\n",
    "atuple = (1,2,3)\n",
    "# 0 번째,   1번째,      2번째\n",
    "atuple[0], atuple[1], atuple[2]"
   ]
  },
  {
   "cell_type": "code",
   "execution_count": 179,
   "id": "b157a791",
   "metadata": {
    "ExecuteTime": {
     "end_time": "2023-03-28T12:49:33.026133Z",
     "start_time": "2023-03-28T12:49:33.012900Z"
    }
   },
   "outputs": [
    {
     "data": {
      "text/plain": [
       "('professor', 'student')"
      ]
     },
     "execution_count": 179,
     "metadata": {},
     "output_type": "execute_result"
    }
   ],
   "source": [
    "# 딕셔너리\n",
    "# { key : value } (함수 대응 관계 처럼)\n",
    "adict = {'ilseung':'professor', 'taeyeon':'student', 'junghyun':'student', 'bomi':'student', 'eunsoo':'student'}\n",
    "\n",
    "adict['ilseung'], adict['taeyeon'] # ilseung -> professor, taeyeon -> student"
   ]
  },
  {
   "cell_type": "code",
   "execution_count": 203,
   "id": "2f7fa403",
   "metadata": {
    "ExecuteTime": {
     "end_time": "2023-03-28T12:57:14.421755Z",
     "start_time": "2023-03-28T12:57:14.407532Z"
    }
   },
   "outputs": [
    {
     "data": {
      "text/plain": [
       "dict_keys(['ilseung', 'taeyeon', 'junghyun', 'bomi', 'eunsoo'])"
      ]
     },
     "execution_count": 203,
     "metadata": {},
     "output_type": "execute_result"
    }
   ],
   "source": [
    "adict.keys() # 위 딕셔너리에서 key값만 호출"
   ]
  },
  {
   "cell_type": "code",
   "execution_count": 202,
   "id": "f1ca62db",
   "metadata": {
    "ExecuteTime": {
     "end_time": "2023-03-28T12:57:13.187331Z",
     "start_time": "2023-03-28T12:57:13.175524Z"
    }
   },
   "outputs": [
    {
     "data": {
      "text/plain": [
       "dict_values(['professor', 'student', 'student', 'student', 'student'])"
      ]
     },
     "execution_count": 202,
     "metadata": {},
     "output_type": "execute_result"
    }
   ],
   "source": [
    "adict.values() # 위 딕셔너리에서 value값만 호출"
   ]
  },
  {
   "cell_type": "code",
   "execution_count": 193,
   "id": "4187f739",
   "metadata": {
    "ExecuteTime": {
     "end_time": "2023-03-28T12:54:48.737722Z",
     "start_time": "2023-03-28T12:54:48.729151Z"
    }
   },
   "outputs": [
    {
     "data": {
      "text/plain": [
       "[10, 11, 12, 13, 14, 15, 16, 17, 18, 19]"
      ]
     },
     "execution_count": 193,
     "metadata": {},
     "output_type": "execute_result"
    }
   ],
   "source": [
    "# list comprehension (python에서 리스트 생성하는 방법)\n",
    "# 많은 데이터를 가지는 리스트를 생성할때 유용함\n",
    "# 아래는 반복문 for 을 사용하여 10에서 19까지 자연수를 가지고 리스트 생성 \n",
    "[i for i in range(10,20)]"
   ]
  },
  {
   "cell_type": "code",
   "execution_count": 187,
   "id": "cae51288",
   "metadata": {
    "ExecuteTime": {
     "end_time": "2023-03-28T12:52:54.687275Z",
     "start_time": "2023-03-28T12:52:54.676366Z"
    }
   },
   "outputs": [
    {
     "data": {
      "text/plain": [
       "(False, True, True)"
      ]
     },
     "execution_count": 187,
     "metadata": {},
     "output_type": "execute_result"
    }
   ],
   "source": [
    "# 두 개의 데이터 비교\n",
    "a, b = 1, 2\n",
    "a == b,               a != b,            a <= b # 다른 부등호도 비슷하게 사용\n",
    "# 두 값이 값을 때 True   두 값이 다를 때 True   왼쪽 값이 오른쪽 값보다 작거나 같을 때 True"
   ]
  },
  {
   "cell_type": "markdown",
   "id": "e128b908",
   "metadata": {},
   "source": [
    "#### Projection and Orthogonal complement"
   ]
  },
  {
   "cell_type": "markdown",
   "id": "9e1e388b",
   "metadata": {},
   "source": [
    "For two vectors $u$ and $v$, the projection of $v$ onto $u$ is given by\n",
    "$$\n",
    "    {\\rm proj}_u (v) = \\frac{v \\cdot u}{u \\cdot u} u\n",
    "$$"
   ]
  },
  {
   "cell_type": "code",
   "execution_count": 122,
   "id": "51eed911",
   "metadata": {
    "ExecuteTime": {
     "end_time": "2023-03-28T08:55:34.687149Z",
     "start_time": "2023-03-28T08:55:34.678324Z"
    }
   },
   "outputs": [],
   "source": [
    "# 아래는 함수를 정의하는 방법의 예시입니다.\n",
    "# (두 벡터 u, v(INPUT)가 주어졌을 때 벡터 v의 벡터 u에 대한 정사영 벡터(OUTPUT) 계산)\n",
    "\n",
    "def proj(v, u): # 입력 변수 v, u\n",
    "    a = v.dot_product(u)/(norm(u)^2)*u # 벡터 v의 벡터 u에 대한 정사영 벡터 계산\n",
    "    return a"
   ]
  },
  {
   "cell_type": "markdown",
   "id": "b0884070",
   "metadata": {},
   "source": [
    "For example,"
   ]
  },
  {
   "cell_type": "code",
   "execution_count": 127,
   "id": "a3d2bfa4",
   "metadata": {
    "ExecuteTime": {
     "end_time": "2023-03-28T12:33:53.735922Z",
     "start_time": "2023-03-28T12:33:53.725326Z"
    }
   },
   "outputs": [
    {
     "data": {
      "text/plain": [
       "(7/6, 7/3, 7/6)"
      ]
     },
     "execution_count": 127,
     "metadata": {},
     "output_type": "execute_result"
    }
   ],
   "source": [
    "u = vector([1,2,1]) # generate a vector [1,2,1] in R^3\n",
    "v = vector([2,1,3]) # generate a vector [2,1,3] in R^3\n",
    "proj(v, u) # 위 두 벡터 u, v (INPUT)에 대해서 proj 함수 호출하여 계산"
   ]
  },
  {
   "cell_type": "markdown",
   "id": "e66ad3d1",
   "metadata": {},
   "source": [
    "The orthgonal complement of $v$ with respect to $u$ is given by\n",
    "$$\n",
    "    v - {\\rm proj}_u(v),\n",
    "$$\n",
    "where $\\left(v - {\\rm proj}_u(v) \\right) \\cdot u = 0$. \n",
    "In the above example, we have"
   ]
  },
  {
   "cell_type": "code",
   "execution_count": 20,
   "id": "d65d2fda",
   "metadata": {
    "ExecuteTime": {
     "end_time": "2023-03-28T04:42:17.460905Z",
     "start_time": "2023-03-28T04:42:17.448771Z"
    }
   },
   "outputs": [
    {
     "data": {
      "text/plain": [
       "0"
      ]
     },
     "execution_count": 20,
     "metadata": {},
     "output_type": "execute_result"
    }
   ],
   "source": [
    "u.dot_product(v-proj_v_on_u)"
   ]
  },
  {
   "cell_type": "markdown",
   "id": "1a479e50",
   "metadata": {},
   "source": [
    "#### Gram-Schmidt Process"
   ]
  },
  {
   "cell_type": "code",
   "execution_count": 204,
   "id": "1dc5e477",
   "metadata": {
    "ExecuteTime": {
     "end_time": "2023-03-28T12:57:33.389983Z",
     "start_time": "2023-03-28T12:57:33.374430Z"
    }
   },
   "outputs": [],
   "source": [
    "def Gram_Schmidt(S):\n",
    "    n = len(S) # the number of vectors in S\n",
    "    E = [S[0]]\n",
    "    #E = [S[0]/norm(S[0])]\n",
    "    \n",
    "    for k in range(1,n): # 반복적인 계산에 for문을 사용\n",
    "        q = S[k] - sum([proj(S[k],E[i]) for i in range(k)]) # list comprehension\n",
    "        E.append(q) # 리스트에 계산된 q값 추가\n",
    "        #E.append(q/norm(q))\n",
    "        \n",
    "    return E\n",
    "\n",
    "def normalized_Gram_Schmidt(S): \n",
    "    # 위 GS process의 normalization 버전 (즉, 각 벡터의 크기를 1로 만듬)\n",
    "    n = len(S) # the number of vectors in S\n",
    "    E = [S[0]/norm(S[0])] # normalization of vectors\n",
    "    \n",
    "    for k in range(1,n):\n",
    "        q = S[k] - sum([proj(S[k],E[i]) for i in range(k)])\n",
    "        E.append(q/norm(q)) # normalization of vectors\n",
    "        \n",
    "    return E"
   ]
  },
  {
   "cell_type": "markdown",
   "id": "8b5cfffd",
   "metadata": {},
   "source": [
    "For example, we apply Gram-Schmidt Process to the following vectors:"
   ]
  },
  {
   "cell_type": "code",
   "execution_count": 196,
   "id": "82688527",
   "metadata": {
    "ExecuteTime": {
     "end_time": "2023-03-28T12:56:02.764663Z",
     "start_time": "2023-03-28T12:56:02.747695Z"
    }
   },
   "outputs": [
    {
     "data": {
      "text/plain": [
       "[(1, 2, -2), (10/9, 11/9, 16/9), (54/53, -36/53, -9/53)]"
      ]
     },
     "execution_count": 196,
     "metadata": {},
     "output_type": "execute_result"
    }
   ],
   "source": [
    "#v1 = vector([1,  0,  0])\n",
    "#v2 = vector([0,  1,  0])\n",
    "#v3 = vector([0,  0,  1])\n",
    "#\n",
    "v1 = vector([1,  2,  -2])\n",
    "v2 = vector([1,  1,   2])\n",
    "v3 = vector([1, -1,   1])\n",
    "#\n",
    "S = [v1, v2, v3]\n",
    "\n",
    "GS = Gram_Schmidt(S); GS"
   ]
  },
  {
   "cell_type": "code",
   "execution_count": 198,
   "id": "303febea",
   "metadata": {
    "ExecuteTime": {
     "end_time": "2023-03-28T12:56:11.525321Z",
     "start_time": "2023-03-28T12:56:11.511063Z"
    }
   },
   "outputs": [
    {
     "data": {
      "text/plain": [
       "[(1/3, 2/3, -2/3),\n",
       " (10/159*sqrt(53), 11/159*sqrt(53), 16/159*sqrt(53)),\n",
       " (6*sqrt(1/53), -4*sqrt(1/53), -sqrt(1/53))]"
      ]
     },
     "execution_count": 198,
     "metadata": {},
     "output_type": "execute_result"
    }
   ],
   "source": [
    "normalized_GS = normalized_Gram_Schmidt(S); normalized_GS # 크기 1"
   ]
  },
  {
   "cell_type": "markdown",
   "id": "158f10bf",
   "metadata": {
    "ExecuteTime": {
     "end_time": "2023-03-28T05:17:17.820533Z",
     "start_time": "2023-03-28T05:17:17.812851Z"
    }
   },
   "source": [
    "#### Graphs"
   ]
  },
  {
   "cell_type": "code",
   "execution_count": 98,
   "id": "4a92ad3b",
   "metadata": {
    "ExecuteTime": {
     "end_time": "2023-03-28T05:21:27.783184Z",
     "start_time": "2023-03-28T05:21:27.727564Z"
    }
   },
   "outputs": [
    {
     "data": {
      "image/png": "[encoded data removed]",
      "text/plain": [
       "Graphics object consisting of 9 graphics primitives"
      ]
     },
     "metadata": {},
     "output_type": "display_data"
    }
   ],
   "source": [
    "#from slabbe import *\n",
    "\n",
    "edges = [(0,0,'a'),(0,1,'b'),(0,1,'c'),(1,1,'d'),(0,0,'e'),(1,1,'f')]\n",
    "kwds = dict(format='list_of_edges', loops=True, multiedges=True)\n",
    "#G = DiGraph(edges, **kwds)\n",
    "G = Graph(edges, **kwds)\n",
    "G.set_pos({0:(0,0), 1:(1,0)})\n",
    "f = lambda label:','.join(label)\n",
    "#TikzPicture.from_graph_with_pos(G, merge_label_function=f)\n",
    "show(G)"
   ]
  },
  {
   "cell_type": "code",
   "execution_count": 201,
   "id": "f9af8576",
   "metadata": {
    "ExecuteTime": {
     "end_time": "2023-03-28T12:56:43.385895Z",
     "start_time": "2023-03-28T12:56:43.381106Z"
    }
   },
   "outputs": [
    {
     "data": {
      "text/plain": [
       "[2 2]\n",
       "[2 2]"
      ]
     },
     "execution_count": 201,
     "metadata": {},
     "output_type": "execute_result"
    }
   ],
   "source": [
    "G.adjacency_matrix() # 위 그래프의 adjacency matrix"
   ]
  },
  {
   "cell_type": "code",
   "execution_count": null,
   "id": "23bb70e9",
   "metadata": {},
   "outputs": [],
   "source": []
  }
 ],
 "metadata": {
  "kernelspec": {
   "display_name": "SageMath 9.4",
   "language": "sage",
   "name": "sagemath"
  },
  "language_info": {
   "codemirror_mode": {
    "name": "ipython",
    "version": 3
   },
   "file_extension": ".py",
   "mimetype": "text/x-python",
   "name": "python",
   "nbconvert_exporter": "python",
   "pygments_lexer": "ipython3",
   "version": "3.9.13"
  },
  "latex_envs": {
   "LaTeX_envs_menu_present": true,
   "autoclose": true,
   "autocomplete": true,
   "bibliofile": "biblio.bib",
   "cite_by": "apalike",
   "current_citInitial": 1,
   "eqLabelWithNumbers": true,
   "eqNumInitial": 1,
   "hotkeys": {
    "equation": "Ctrl-E",
    "itemize": "Ctrl-I"
   },
   "labels_anchors": false,
   "latex_user_defs": false,
   "report_style_numbering": false,
   "user_envs_cfg": false
  },
  "toc": {
   "base_numbering": 1,
   "nav_menu": {},
   "number_sections": true,
   "sideBar": true,
   "skip_h1_title": false,
   "title_cell": "Table of Contents",
   "title_sidebar": "Contents",
   "toc_cell": false,
   "toc_position": {},
   "toc_section_display": true,
   "toc_window_display": false
  },
  "varInspector": {
   "cols": {
    "lenName": 16,
    "lenType": 16,
    "lenVar": 40
   },
   "kernels_config": {
    "python": {
     "delete_cmd_postfix": "",
     "delete_cmd_prefix": "del ",
     "library": "var_list.py",
     "varRefreshCmd": "print(var_dic_list())"
    },
    "r": {
     "delete_cmd_postfix": ") ",
     "delete_cmd_prefix": "rm(",
     "library": "var_list.r",
     "varRefreshCmd": "cat(var_dic_list()) "
    }
   },
   "types_to_exclude": [
    "module",
    "function",
    "builtin_function_or_method",
    "instance",
    "_Feature"
   ],
   "window_display": false
  }
 },
 "nbformat": 4,
 "nbformat_minor": 5
}
