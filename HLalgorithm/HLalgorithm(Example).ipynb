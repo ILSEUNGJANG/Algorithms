{
 "cells": [
  {
   "cell_type": "markdown",
   "metadata": {},
   "source": [
    "In this notebook, let us illustrate the cluster algebra approach for computing $q$-characters of Kirillov-Reshetikhin modules in [HL16].\n",
    "\n",
    "REFERENCE:\n",
    "- [FM01] Edward Frenkel and Evgeny Mukhin, \n",
    "Combinatorics of $q$-characters of finite-dimensional representations of quantum affine algebras, \n",
    "Comm. Math. Phys. **216** (2001), no. 1, 23--57.\n",
    "        \n",
    "- [HL16] David Hernandez and Bernard Leclerc, \n",
    "A cluster algebra approach to $q$-characters of Kirillov-Reshetikhin modules, \n",
    "J. Eur. Math. Soc. (JEMS) **18** (2016), no. 5, 1113--1159.\n",
    "\n",
    "REFERENCE for CODE:\n",
    "- [MS11] G. Musiker, C. Stump, \n",
    "A Compendium on the cluster algebra and quiver package in Sage, preprint (2011), \n",
    "arXiv:1102.4844 (Sem. Lothar. Combin. 67, 67 pages, 2011)."
   ]
  },
  {
   "cell_type": "markdown",
   "metadata": {},
   "source": [
    "---"
   ]
  },
  {
   "cell_type": "code",
   "execution_count": 1,
   "metadata": {
    "ExecuteTime": {
     "end_time": "2022-02-24T05:24:27.335984Z",
     "start_time": "2022-02-24T05:24:26.662039Z"
    }
   },
   "outputs": [],
   "source": [
    "load(\"HLalgorithm.py\")"
   ]
  },
  {
   "cell_type": "code",
   "execution_count": 2,
   "metadata": {
    "ExecuteTime": {
     "end_time": "2022-02-24T05:24:28.014267Z",
     "start_time": "2022-02-24T05:24:27.917650Z"
    }
   },
   "outputs": [
    {
     "data": {
      "text/plain": [
       "The quiver G^- of type ['A', 3] with adjacency 9 x 9 ( max = 3 )."
      ]
     },
     "execution_count": 2,
     "metadata": {},
     "output_type": "execute_result"
    }
   ],
   "source": [
    "G = G_minus(['A',3],3); G"
   ]
  },
  {
   "cell_type": "code",
   "execution_count": 3,
   "metadata": {
    "ExecuteTime": {
     "end_time": "2022-02-24T05:24:28.772045Z",
     "start_time": "2022-02-24T05:24:28.764279Z"
    }
   },
   "outputs": [
    {
     "data": {
      "text/plain": [
       "[ 0 -1  0 -1  1  0  0  0  0]\n",
       "[ 1  0  1  0 -1  0  0  0  0]\n",
       "[ 0 -1  0  0  1 -1  0  0  0]\n",
       "[ 1  0  0  0 -1  0 -1  1  0]\n",
       "[-1  1 -1  1  0  1  0 -1  0]\n",
       "[ 0  0  1  0 -1  0  0  1 -1]\n",
       "[ 0  0  0  1  0  0  0 -1  0]\n",
       "[ 0  0  0 -1  1 -1  1  0  1]\n",
       "[ 0  0  0  0  0  1  0 -1  0]"
      ]
     },
     "execution_count": 3,
     "metadata": {},
     "output_type": "execute_result"
    }
   ],
   "source": [
    "G.matrix()"
   ]
  },
  {
   "cell_type": "code",
   "execution_count": 5,
   "metadata": {
    "ExecuteTime": {
     "end_time": "2022-02-24T05:25:09.433547Z",
     "start_time": "2022-02-24T05:25:08.556925Z"
    }
   },
   "outputs": [
    {
     "data": {
      "image/png": "[encoded data removed]",
      "text/plain": [
       "\\documentclass[tikz]{standalone}\n",
       "\\standaloneconfig{border=4mm}\n",
       "\\usepackage{amsmath}\n",
       "\\begin{document}\n",
       "\\begin{tikzpicture}\n",
       "[auto,scale=2]\n",
       "% vertices\n",
       "\\node (node_6) at (1, -5) {(1, -5)};\n",
       "\\node (node_2) at (1, -3) {(1, -3)};\n",
       "...\n",
       "... 21 lines not printed (922 characters in total) ...\n",
       "...\n",
       "\\draw[->] (node_5) -- (node_7);\n",
       "\\draw[->] (node_5) -- (node_4);\n",
       "\\draw[->] (node_4) -- (node_3);\n",
       "% loops\n",
       "\\end{tikzpicture}\n",
       "\\end{document}"
      ]
     },
     "execution_count": 5,
     "metadata": {},
     "output_type": "execute_result"
    }
   ],
   "source": [
    "G.quiver(tikz=True) # if tikz is True, then need the optional package `slabbe`"
   ]
  },
  {
   "cell_type": "code",
   "execution_count": 6,
   "metadata": {
    "ExecuteTime": {
     "end_time": "2022-02-24T05:25:11.264377Z",
     "start_time": "2022-02-24T05:25:11.256085Z"
    }
   },
   "outputs": [
    {
     "name": "stdout",
     "output_type": "stream",
     "text": [
      "\n",
      "Index    : { Label(Numbering)    : Vertex }\n",
      "-------------------------------------------------\n",
      "  1              0                (1, -1)\n",
      "  1              3                (1, -3)\n",
      "  1              6                (1, -5)\n",
      "\n",
      "  2              1                (2, 0)\n",
      "  2              4                (2, -2)\n",
      "  2              7                (2, -4)\n",
      "\n",
      "  3              2                (3, -1)\n",
      "  3              5                (3, -3)\n",
      "  3              8                (3, -5)\n",
      "\n"
     ]
    }
   ],
   "source": [
    "G.show_vertex()"
   ]
  },
  {
   "cell_type": "code",
   "execution_count": 7,
   "metadata": {
    "ExecuteTime": {
     "end_time": "2022-02-24T05:25:12.266700Z",
     "start_time": "2022-02-24T05:25:12.260564Z"
    }
   },
   "outputs": [
    {
     "name": "stdout",
     "output_type": "stream",
     "text": [
      "\n",
      "Index      Label          Vertex         cluster variable\n",
      "  1         0             (1, -1)        x0\n",
      "  1         3             (1, -3)        x3\n",
      "  1         6             (1, -5)        x6\n",
      "  2         1             (2,  0)        x1\n",
      "  2         4             (2, -2)        x4\n",
      "  2         7             (2, -4)        x7\n",
      "  3         2             (3, -1)        x2\n",
      "  3         5             (3, -3)        x5\n",
      "  3         8             (3, -5)        x8\n",
      "\n"
     ]
    }
   ],
   "source": [
    "G.show_current_cluster_variables()"
   ]
  },
  {
   "cell_type": "code",
   "execution_count": 9,
   "metadata": {
    "ExecuteTime": {
     "end_time": "2022-02-24T05:25:27.689161Z",
     "start_time": "2022-02-24T05:25:27.678521Z"
    }
   },
   "outputs": [
    {
     "name": "stdout",
     "output_type": "stream",
     "text": [
      "\n",
      "y_{1,-1}^{(0)} =  Y1[-1]\n",
      "y_{1,-3}^{(0)} =  Y1[-3]*Y1[-1]\n",
      "y_{1,-5}^{(0)} =  Y1[-5]*Y1[-3]*Y1[-1]\n",
      "\n",
      "y_{2, 0}^{(0)} =  Y2[0]\n",
      "y_{2,-2}^{(0)} =  Y2[-2]*Y2[0]\n",
      "y_{2,-4}^{(0)} =  Y2[-4]*Y2[-2]*Y2[0]\n",
      "\n",
      "y_{3,-1}^{(0)} =  Y3[-1]\n",
      "y_{3,-3}^{(0)} =  Y3[-3]*Y3[-1]\n",
      "y_{3,-5}^{(0)} =  Y3[-5]*Y3[-3]*Y3[-1]\n",
      "\n"
     ]
    }
   ],
   "source": [
    "G.show_initial_monomials()\n",
    "# initial monomials attached to vertex"
   ]
  },
  {
   "cell_type": "code",
   "execution_count": 10,
   "metadata": {
    "ExecuteTime": {
     "end_time": "2022-02-24T05:25:30.407479Z",
     "start_time": "2022-02-24T05:25:30.394863Z"
    }
   },
   "outputs": [
    {
     "data": {
      "text/plain": [
       "[1, 4, 7, 0, 3, 6, 2, 5, 8]"
      ]
     },
     "execution_count": 10,
     "metadata": {},
     "output_type": "execute_result"
    }
   ],
   "source": [
    "mu = G.mu(3); mu\n",
    "# the standard sequence `mu` in [HL16]"
   ]
  },
  {
   "cell_type": "code",
   "execution_count": 11,
   "metadata": {
    "ExecuteTime": {
     "end_time": "2022-02-24T05:25:33.662068Z",
     "start_time": "2022-02-24T05:25:33.652484Z"
    }
   },
   "outputs": [
    {
     "name": "stdout",
     "output_type": "stream",
     "text": [
      "\n",
      "Label      Vertex         total count         order\n",
      "---------------------------------------------------------\n",
      "  0        (1, -1)        0                   []\n",
      "  3        (1, -3)        0                   []\n",
      "  6        (1, -5)        0                   []\n",
      "\n",
      "  1        (2, 0)         0                   []\n",
      "  4        (2, -2)        0                   []\n",
      "  7        (2, -4)        0                   []\n",
      "\n",
      "  2        (3, -1)        0                   []\n",
      "  5        (3, -3)        0                   []\n",
      "  8        (3, -5)        0                   []\n",
      "\n"
     ]
    }
   ],
   "source": [
    "G.show_current_mutations()"
   ]
  },
  {
   "cell_type": "code",
   "execution_count": 12,
   "metadata": {
    "ExecuteTime": {
     "end_time": "2022-02-24T05:25:58.533545Z",
     "start_time": "2022-02-24T05:25:58.496384Z"
    }
   },
   "outputs": [
    {
     "name": "stdout",
     "output_type": "stream",
     "text": [
      "\n",
      "Index      Label          Vertex         cluster variable\n",
      "  1         0             (1, -1)        (x0*x2 + x1*x3 + x4)/(x0*x1)                                                                                                                                                     \n",
      "  1         3             (1, -3)        (x0*x1*x3*x5 + x0*x2*x4*x6 + x1*x3*x4*x6 + x0^2*x2*x7 + x4^2*x6 + x0*x4*x7)/(x0*x1*x3*x4)                                                                                        \n",
      "  1         6             (1, -5)        (x0*x1*x3*x4*x6*x8 + x0*x1*x3^2*x5 + x0^2*x2*x3*x7 + x0*x1*x3*x5*x7 + x0*x2*x4*x6*x7 + x1*x3*x4*x6*x7 + x0^2*x2*x7^2 + x0*x3*x4*x7 + x4^2*x6*x7 + x0*x4*x7^2)/(x0*x1*x3*x4*x6*x7)\n",
      "  2         1             (2,  0)        (x0*x2 + x4)/x1                                                                                                                                                                  \n",
      "  2         4             (2, -2)        (x1*x3*x5 + x0*x2*x7 + x4*x7)/(x1*x4)                                                                                                                                            \n",
      "  2         7             (2, -4)        (x1*x4*x6*x8 + x1*x3*x5 + x0*x2*x7 + x4*x7)/(x1*x4*x7)                                                                                                                           \n",
      "  3         2             (3, -1)        (x0*x2 + x1*x5 + x4)/(x1*x2)                                                                                                                                                     \n",
      "  3         5             (3, -3)        (x1*x2*x3*x5 + x0*x2^2*x7 + x0*x2*x4*x8 + x1*x4*x5*x8 + x2*x4*x7 + x4^2*x8)/(x1*x2*x4*x5)                                                                                        \n",
      "  3         8             (3, -5)        (x1*x2*x4*x5*x6*x8 + x1*x2*x3*x5^2 + x0*x2^2*x5*x7 + x1*x2*x3*x5*x7 + x0*x2^2*x7^2 + x0*x2*x4*x7*x8 + x1*x4*x5*x7*x8 + x2*x4*x5*x7 + x2*x4*x7^2 + x4^2*x7*x8)/(x1*x2*x4*x5*x7*x8)\n",
      "\n"
     ]
    }
   ],
   "source": [
    "G.mutations(seq=mu); G.show_current_cluster_variables()\n",
    "# applying the mutation sequence to G- and display the resulting\n",
    "# cluster variables"
   ]
  },
  {
   "cell_type": "code",
   "execution_count": 13,
   "metadata": {
    "ExecuteTime": {
     "end_time": "2022-02-24T05:26:07.535955Z",
     "start_time": "2022-02-24T05:26:06.694112Z"
    }
   },
   "outputs": [
    {
     "data": {
      "image/png": "[encoded data removed]",
      "text/plain": [
       "\\documentclass[tikz]{standalone}\n",
       "\\standaloneconfig{border=4mm}\n",
       "\\usepackage{amsmath}\n",
       "\\begin{document}\n",
       "\\begin{tikzpicture}\n",
       "[auto,scale=2]\n",
       "% vertices\n",
       "\\node (node_6) at (1, -5) {(1, -5)};\n",
       "\\node (node_2) at (1, -3) {(1, -3)};\n",
       "...\n",
       "... 21 lines not printed (922 characters in total) ...\n",
       "...\n",
       "\\draw[->] (node_5) -- (node_7);\n",
       "\\draw[->] (node_5) -- (node_4);\n",
       "\\draw[->] (node_4) -- (node_3);\n",
       "% loops\n",
       "\\end{tikzpicture}\n",
       "\\end{document}"
      ]
     },
     "execution_count": 13,
     "metadata": {},
     "output_type": "execute_result"
    }
   ],
   "source": [
    "G.quiver(tikz=True)\n",
    "# i.e. the periodicity of quiver G-"
   ]
  },
  {
   "cell_type": "markdown",
   "metadata": {},
   "source": [
    "By the change of variables, we obtain truncated $q$-characters as follows:"
   ]
  },
  {
   "cell_type": "code",
   "execution_count": 17,
   "metadata": {
    "ExecuteTime": {
     "end_time": "2022-02-24T05:27:03.716595Z",
     "start_time": "2022-02-24T05:27:03.709431Z"
    }
   },
   "outputs": [
    {
     "data": {
      "text/plain": [
       "Y2[0]^-1*Y3[-1] + Y1[-3] + Y1[-1]^-1*Y2[-2]"
      ]
     },
     "execution_count": 17,
     "metadata": {},
     "output_type": "execute_result"
    }
   ],
   "source": [
    "G.change_of_variables(0)"
   ]
  },
  {
   "cell_type": "code",
   "execution_count": 18,
   "metadata": {
    "ExecuteTime": {
     "end_time": "2022-02-24T05:27:04.326549Z",
     "start_time": "2022-02-24T05:27:04.319448Z"
    }
   },
   "outputs": [
    {
     "data": {
      "text/plain": [
       "Y1[-1]*Y2[0]^-1*Y3[-1] + Y2[-2]"
      ]
     },
     "execution_count": 18,
     "metadata": {},
     "output_type": "execute_result"
    }
   ],
   "source": [
    "G.change_of_variables(1)"
   ]
  },
  {
   "cell_type": "code",
   "execution_count": 19,
   "metadata": {
    "ExecuteTime": {
     "end_time": "2022-02-24T05:27:04.724452Z",
     "start_time": "2022-02-24T05:27:04.714290Z"
    }
   },
   "outputs": [
    {
     "data": {
      "text/plain": [
       "Y1[-1]*Y2[0]^-1 + Y3[-3] + Y2[-2]*Y3[-1]^-1"
      ]
     },
     "execution_count": 19,
     "metadata": {},
     "output_type": "execute_result"
    }
   ],
   "source": [
    "G.change_of_variables(2)"
   ]
  },
  {
   "cell_type": "code",
   "execution_count": 20,
   "metadata": {
    "ExecuteTime": {
     "end_time": "2022-02-24T05:28:18.894705Z",
     "start_time": "2022-02-24T05:28:18.849361Z"
    }
   },
   "outputs": [
    {
     "name": "stdout",
     "output_type": "stream",
     "text": [
      "\n",
      "Index      Label          Vertex         cluster variable\n",
      "  1         0             (1, -1)        (x1*x3*x5 + x2*x4*x6 + x0*x2*x7 + x3*x4)/(x2*x3*x4)                                                                                                                                                                                                                                                                                                                                                                                                                                                                                                                                                                                                                       \n",
      "  1         3             (1, -3)        (x1*x3*x4*x5*x6*x8 + x1*x3^2*x5^2 + x0*x2*x3*x5*x7 + x1*x3*x5^2*x7 + x2*x3*x4*x6*x7 + x2*x4*x5*x6*x7 + x0*x2*x5*x7^2 + x3*x4^2*x6*x8 + x3^2*x4*x5 + x3*x4*x5*x7)/(x2*x3*x4*x5*x6*x7)                                                                                                                                                                                                                                                                                                                                                                                                                                                                                      \n",
      "  1         6             (1, -5)        (x1*x5*x8 + x2*x5 + x2*x7 + x4*x8)/(x2*x5*x8)                                                                                                                                                                                                                                                                                                                                                                                                                                                                                                                                                                                                                             \n",
      "  2         1             (2,  0)        (x1^2*x3*x5 + x0*x1*x2*x7 + x0*x2*x4 + x1*x3*x4 + x1*x4*x5 + x4^2)/(x0*x1*x2*x4)                                                                                                                                                                                                                                                                                                                                                                                                                                                                                                                                                                                          \n",
      "  2         4             (2, -2)        (x1^2*x3*x4*x5*x6*x8 + x1^2*x3^2*x5^2 + 2*x0*x1*x2*x3*x5*x7 + x0*x2^2*x4*x6*x7 + x1*x2*x3*x4*x6*x7 + x0^2*x2^2*x7^2 + x0*x2*x4^2*x6*x8 + x1*x3*x4^2*x6*x8 + x1*x4^2*x5*x6*x8 + x0^2*x2*x4*x7*x8 + x0*x1*x4*x5*x7*x8 + x0*x2*x3*x4*x5 + x1*x3^2*x4*x5 + x1*x3*x4*x5^2 + x2*x4^2*x6*x7 + x0*x2*x4*x7^2 + x4^3*x6*x8 + x0*x4^2*x7*x8 + x3*x4^2*x5)/(x0*x1*x2*x3*x4*x5*x7)                                                                                                                                                                                                                                                                                                    \n",
      "  2         7             (2, -4)        (x0*x1*x2*x3*x4*x5*x6*x8 + x1^2*x3*x4*x5*x6*x7*x8 + x0*x1*x2*x3^2*x5^2 + x0^2*x2^2*x3*x5*x7 + x0*x1*x2*x3^2*x5*x7 + x0*x1*x2*x3*x5^2*x7 + x0*x2^2*x4*x5*x6*x7 + x1*x2*x3*x4*x5*x6*x7 + x0^2*x2^2*x3*x7^2 + x0^2*x2^2*x5*x7^2 + x0*x1*x2*x3*x5*x7^2 + x0*x2^2*x4*x6*x7^2 + x1*x2*x3*x4*x6*x7^2 + x0^2*x2^2*x7^3 + x0^2*x2*x3*x4*x7*x8 + x0*x1*x3*x4*x5*x7*x8 + x0*x2*x4^2*x6*x7*x8 + x1*x3*x4^2*x6*x7*x8 + x1*x4^2*x5*x6*x7*x8 + x0^2*x2*x4*x7^2*x8 + x0*x1*x4*x5*x7^2*x8 + x0*x2*x3*x4*x5*x7 + x2*x4^2*x5*x6*x7 + x0*x2*x3*x4*x7^2 + x0*x2*x4*x5*x7^2 + x2*x4^2*x6*x7^2 + x0*x2*x4*x7^3 + x0*x3*x4^2*x7*x8 + x4^3*x6*x7*x8 + x0*x4^2*x7^2*x8)/(x0*x1*x2*x3*x4*x5*x6*x7*x8)\n",
      "  3         2             (3, -1)        (x1*x3*x5 + x0*x2*x7 + x0*x4*x8 + x4*x5)/(x0*x4*x5)                                                                                                                                                                                                                                                                                                                                                                                                                                                                                                                                                                                                                       \n",
      "  3         5             (3, -3)        (x1*x3*x4*x5*x6*x8 + x1*x3^2*x5^2 + x0*x2*x3*x5*x7 + x1*x3^2*x5*x7 + x0*x2*x3*x7^2 + x4^2*x5*x6*x8 + x0*x3*x4*x7*x8 + x0*x4*x5*x7*x8 + x3*x4*x5^2 + x3*x4*x5*x7)/(x0*x3*x4*x5*x7*x8)                                                                                                                                                                                                                                                                                                                                                                                                                                                                                      \n",
      "  3         8             (3, -5)        (x1*x3*x6 + x0*x3 + x4*x6 + x0*x7)/(x0*x3*x6)                                                                                                                                                                                                                                                                                                                                                                                                                                                                                                                                                                                                                             \n",
      "\n"
     ]
    }
   ],
   "source": [
    "G.mutations(seq=mu); G.show_current_cluster_variables()\n",
    "# repeat this process"
   ]
  },
  {
   "cell_type": "code",
   "execution_count": 26,
   "metadata": {},
   "outputs": [
    {
     "data": {
      "image/png": "[encoded data removed]",
      "text/plain": [
       "\\documentclass[tikz]{standalone}\n",
       "\\standaloneconfig{border=4mm}\n",
       "\\usepackage{amsmath}\n",
       "\\begin{document}\n",
       "\\begin{tikzpicture}\n",
       "[auto,scale=2]\n",
       "% vertices\n",
       "\\node (node_6) at (1, -5) {(1, -5)};\n",
       "\\node (node_2) at (1, -3) {(1, -3)};\n",
       "...\n",
       "... 21 lines not printed (922 characters in total) ...\n",
       "...\n",
       "\\draw[->] (node_5) -- (node_7);\n",
       "\\draw[->] (node_5) -- (node_4);\n",
       "\\draw[->] (node_4) -- (node_3);\n",
       "% loops\n",
       "\\end{tikzpicture}\n",
       "\\end{document}"
      ]
     },
     "execution_count": 26,
     "metadata": {},
     "output_type": "execute_result"
    }
   ],
   "source": [
    "G.quiver(tikz=True)"
   ]
  },
  {
   "cell_type": "markdown",
   "metadata": {},
   "source": [
    "By the change of variables, we obtain truncated $q$-characters as follows.  \n",
    "Compare the $q$-character formulas in `qchar_graphs.pdf`."
   ]
  },
  {
   "cell_type": "code",
   "execution_count": 21,
   "metadata": {
    "ExecuteTime": {
     "end_time": "2022-02-24T05:28:20.864512Z",
     "start_time": "2022-02-24T05:28:20.856697Z"
    }
   },
   "outputs": [
    {
     "data": {
      "text/plain": [
       "Y2[-2]^-1*Y3[-3] + Y1[-5] + Y1[-3]^-1*Y2[-4] + Y3[-1]^-1"
      ]
     },
     "execution_count": 21,
     "metadata": {},
     "output_type": "execute_result"
    }
   ],
   "source": [
    "G.change_of_variables(0)"
   ]
  },
  {
   "cell_type": "code",
   "execution_count": 22,
   "metadata": {
    "ExecuteTime": {
     "end_time": "2022-02-24T05:28:21.396099Z",
     "start_time": "2022-02-24T05:28:21.388281Z"
    }
   },
   "outputs": [
    {
     "data": {
      "text/plain": [
       "Y1[-3]*Y2[-2]^-1*Y3[-3] + Y2[-4] + Y2[0]^-1 + Y1[-3]*Y3[-1]^-1 + Y1[-1]^-1*Y3[-3] + Y1[-1]^-1*Y2[-2]*Y3[-1]^-1"
      ]
     },
     "execution_count": 22,
     "metadata": {},
     "output_type": "execute_result"
    }
   ],
   "source": [
    "G.change_of_variables(1)"
   ]
  },
  {
   "cell_type": "code",
   "execution_count": 23,
   "metadata": {
    "ExecuteTime": {
     "end_time": "2022-02-24T05:28:21.636984Z",
     "start_time": "2022-02-24T05:28:21.624714Z"
    }
   },
   "outputs": [
    {
     "data": {
      "text/plain": [
       "Y1[-3]*Y2[-2]^-1 + Y2[-4]*Y3[-3]^-1 + Y3[-5] + Y1[-1]^-1"
      ]
     },
     "execution_count": 23,
     "metadata": {},
     "output_type": "execute_result"
    }
   ],
   "source": [
    "G.change_of_variables(2)"
   ]
  },
  {
   "cell_type": "code",
   "execution_count": null,
   "metadata": {},
   "outputs": [],
   "source": []
  }
 ],
 "metadata": {
  "kernelspec": {
   "display_name": "SageMath 9.4",
   "language": "sage",
   "name": "sagemath"
  },
  "language_info": {
   "codemirror_mode": {
    "name": "ipython",
    "version": 3
   },
   "file_extension": ".py",
   "mimetype": "text/x-python",
   "name": "python",
   "nbconvert_exporter": "python",
   "pygments_lexer": "ipython3",
   "version": "3.9.10"
  },
  "latex_envs": {
   "LaTeX_envs_menu_present": true,
   "autoclose": true,
   "autocomplete": true,
   "bibliofile": "biblio.bib",
   "cite_by": "apalike",
   "current_citInitial": 1,
   "eqLabelWithNumbers": true,
   "eqNumInitial": 1,
   "hotkeys": {
    "equation": "Ctrl-E",
    "itemize": "Ctrl-I"
   },
   "labels_anchors": false,
   "latex_user_defs": false,
   "report_style_numbering": false,
   "user_envs_cfg": false
  },
  "toc": {
   "base_numbering": 1,
   "nav_menu": {},
   "number_sections": true,
   "sideBar": true,
   "skip_h1_title": false,
   "title_cell": "Table of Contents",
   "title_sidebar": "Contents",
   "toc_cell": false,
   "toc_position": {},
   "toc_section_display": true,
   "toc_window_display": false
  },
  "varInspector": {
   "cols": {
    "lenName": 16,
    "lenType": 16,
    "lenVar": 40
   },
   "kernels_config": {
    "python": {
     "delete_cmd_postfix": "",
     "delete_cmd_prefix": "del ",
     "library": "var_list.py",
     "varRefreshCmd": "print(var_dic_list())"
    },
    "r": {
     "delete_cmd_postfix": ") ",
     "delete_cmd_prefix": "rm(",
     "library": "var_list.r",
     "varRefreshCmd": "cat(var_dic_list()) "
    }
   },
   "types_to_exclude": [
    "module",
    "function",
    "builtin_function_or_method",
    "instance",
    "_Feature"
   ],
   "window_display": false
  }
 },
 "nbformat": 4,
 "nbformat_minor": 4
}
